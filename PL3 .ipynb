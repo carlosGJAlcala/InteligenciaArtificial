{
  "nbformat": 4,
  "nbformat_minor": 0,
  "metadata": {
    "colab": {
      "provenance": [],
      "collapsed_sections": []
    },
    "kernelspec": {
      "name": "python3",
      "display_name": "Python 3"
    },
    "language_info": {
      "name": "python"
    }
  },
  "cells": [
    {
      "cell_type": "markdown",
      "source": [
        "\n",
        "Óscar Fernández Sánchez\n",
        "\n",
        "Sergio Orejón Pérez\n",
        "\n",
        "Jordy Ivan San Martín Ponce\n",
        "\n",
        "Carlos Garrido Junco"
      ],
      "metadata": {
        "id": "I3U_yyxgbJJg"
      }
    },
    {
      "cell_type": "code",
      "source": [
        "#Para knn\n",
        "import sklearn.datasets as datasets\n",
        "import pandas as pd\n",
        "from sklearn.model_selection import train_test_split\n",
        "from sklearn.neighbors import KNeighborsClassifier\n",
        "\n",
        "#Para bayes\n",
        "from sklearn.datasets import load_breast_cancer\n",
        "from sklearn.model_selection import train_test_split\n",
        "from sklearn import metrics\n",
        "from sklearn.naive_bayes import MultinomialNB\n",
        "#Con gauss seria: \n",
        "from sklearn.naive_bayes import GaussianNB\n",
        "\n",
        "\n",
        "#Para arboles \n",
        "import numpy as np\n",
        "import pandas as pd\n",
        "import matplotlib.pyplot as plt\n",
        "from sklearn.model_selection import train_test_split\n",
        "from sklearn import datasets\n",
        "from sklearn import metrics\n",
        "from sklearn.tree import DecisionTreeClassifier\n",
        "\n",
        "\n",
        "#Matriz de confusion \n",
        "from sklearn.metrics import classification_report, confusion_matrix\n",
        "#Para la validación cruzada KFold\n",
        "from sklearn import datasets, metrics\n",
        "from sklearn.model_selection import cross_val_score\n",
        "from sklearn.model_selection import KFold\n",
        "kf = KFold(n_splits=5)"
      ],
      "metadata": {
        "id": "qHYGPQZFimZt"
      },
      "execution_count": null,
      "outputs": []
    },
    {
      "cell_type": "markdown",
      "source": [
        "BASE DATOS  DE HEARTCARE"
      ],
      "metadata": {
        "id": "vz9MaUrccfWz"
      }
    },
    {
      "cell_type": "code",
      "source": [
        "#Para añadir la base de datos - está incluido el csv en la entrega\n",
        "from google.colab import files\n",
        "import io\n",
        "\n",
        "uploaded= files.upload()\n",
        "heart_attack = pd.read_csv(io.BytesIO(uploaded['heart_UCI.csv']))\n",
        "X = heart_attack.loc[:,heart_attack.columns != 'target']\n",
        "Y = heart_attack['target'].values \n",
        "\n",
        "\n",
        "\n"
      ],
      "metadata": {
        "id": "XWzNnySShHvJ",
        "colab": {
          "resources": {
            "http://localhost:8080/nbextensions/google.colab/files.js": {
              "data": "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",
              "ok": true,
              "headers": [
                [
                  "content-type",
                  "application/javascript"
                ]
              ],
              "status": 200,
              "status_text": ""
            }
          },
          "base_uri": "https://localhost:8080/",
          "height": 73
        },
        "outputId": "6b898ca7-7aee-4781-be6d-ec787831478a"
      },
      "execution_count": null,
      "outputs": [
        {
          "output_type": "display_data",
          "data": {
            "text/html": [
              "\n",
              "     <input type=\"file\" id=\"files-00a66206-0552-4263-8b7a-11833d26c4d4\" name=\"files[]\" multiple disabled\n",
              "        style=\"border:none\" />\n",
              "     <output id=\"result-00a66206-0552-4263-8b7a-11833d26c4d4\">\n",
              "      Upload widget is only available when the cell has been executed in the\n",
              "      current browser session. Please rerun this cell to enable.\n",
              "      </output>\n",
              "      <script src=\"/nbextensions/google.colab/files.js\"></script> "
            ],
            "text/plain": [
              "<IPython.core.display.HTML object>"
            ]
          },
          "metadata": {}
        },
        {
          "output_type": "stream",
          "name": "stdout",
          "text": [
            "Saving heart_UCI.csv to heart_UCI.csv\n"
          ]
        }
      ]
    },
    {
      "cell_type": "code",
      "source": [
        "#Al final usamos la misma base de datos de la práctica anterior\n",
        "#Comprobación que le hicimos a la base de datos que probamos y nos daba muchos errores, la hemos añadido como parte de nuestro aprendizaje.\n",
        "for i in range(len(X.age)):\n",
        "  for j in X.columns:\n",
        "    if(X.loc[i,j]=='?'):\n",
        "      X.loc[i,j]=np.nan\n",
        "X.isna().sum()\n",
        "\n",
        "## como en esa base de datos faltaban datos pues usamos KNN_Imputer para rellenar las ? que habia. En la base de datos usada actualmente no hace falta\n",
        "from sklearn.impute import KNNImputer\n",
        "\n",
        "knn_imputer = KNNImputer(n_neighbors=10)\n",
        "knn_imputer_fit = knn_imputer.fit(X.values)\n",
        "imputed_data = knn_imputer_fit.transform(X)\n",
        "print(imputed_data)\n",
        "X=pd.DataFrame(imputed_data,columns=X.columns)\n",
        "X.isna().sum()"
      ],
      "metadata": {
        "colab": {
          "base_uri": "https://localhost:8080/"
        },
        "id": "GH-QIsYzdQWU",
        "outputId": "3c3e420e-bfa4-403a-bb6d-2f3468e338dc"
      },
      "execution_count": null,
      "outputs": [
        {
          "output_type": "stream",
          "name": "stdout",
          "text": [
            "[[63.  1.  3. ...  0.  0.  1.]\n",
            " [37.  1.  2. ...  0.  0.  2.]\n",
            " [41.  0.  1. ...  2.  0.  2.]\n",
            " ...\n",
            " [68.  1.  0. ...  1.  2.  3.]\n",
            " [57.  1.  0. ...  1.  1.  3.]\n",
            " [57.  0.  1. ...  1.  1.  2.]]\n"
          ]
        },
        {
          "output_type": "stream",
          "name": "stderr",
          "text": [
            "/usr/local/lib/python3.7/dist-packages/sklearn/base.py:444: UserWarning: X has feature names, but KNNImputer was fitted without feature names\n",
            "  f\"X has feature names, but {self.__class__.__name__} was fitted without\"\n"
          ]
        },
        {
          "output_type": "execute_result",
          "data": {
            "text/plain": [
              "age         0\n",
              "sex         0\n",
              "cp          0\n",
              "trestbps    0\n",
              "chol        0\n",
              "fbs         0\n",
              "restecg     0\n",
              "thalach     0\n",
              "exang       0\n",
              "oldpeak     0\n",
              "slope       0\n",
              "ca          0\n",
              "thal        0\n",
              "dtype: int64"
            ]
          },
          "metadata": {},
          "execution_count": 4
        }
      ]
    },
    {
      "cell_type": "code",
      "source": [
        "\n"
      ],
      "metadata": {
        "id": "i_7LuwcpUEhF"
      },
      "execution_count": null,
      "outputs": []
    },
    {
      "cell_type": "markdown",
      "source": [
        "DIVIDIR LOS CONJUNTOS EN ENTRENAMIENTO TEST  Y VALIDACIÓN "
      ],
      "metadata": {
        "id": "2N-n1xwftSO3"
      }
    },
    {
      "cell_type": "code",
      "source": [
        "# Separar dataset en sets de entrenamiento y test\n",
        "X = heart_attack.loc[:,heart_attack.columns != 'target']\n",
        "Y = heart_attack['target'].values \n",
        "X_train, X_test, Y_train, Y_test = train_test_split(X, Y, test_size=0.1)\n",
        "X_train, X_val, Y_train, Y_val  = train_test_split(X_train, Y_train, test_size=0.111) # Con estos valores lo dividimos en 80 entrenamiento 20 test 20 validacion\n",
        "print(X_train)\n",
        "print(\"*******************\")\n",
        "print(X_test)\n",
        "print(\"*******************\")\n",
        "print(X_val)\n",
        "print(\"+++++++++++++++++++++++++++++++++++++\")\n",
        "print(Y_train)\n",
        "print(\"*******************\")\n",
        "print(Y_test)\n",
        "print(\"*******************\")\n",
        "print(Y_val)"
      ],
      "metadata": {
        "id": "uMhwFytDtaGr",
        "colab": {
          "base_uri": "https://localhost:8080/"
        },
        "outputId": "73e6b9c9-7cff-4975-d392-00d01080b733"
      },
      "execution_count": null,
      "outputs": [
        {
          "output_type": "stream",
          "name": "stdout",
          "text": [
            "     age  sex  cp  trestbps  chol  ...  exang  oldpeak  slope  ca  thal\n",
            "154   39    0   2       138   220  ...      0      0.0      1   0     2\n",
            "221   55    1   0       140   217  ...      1      5.6      0   0     3\n",
            "260   66    0   0       178   228  ...      1      1.0      1   2     3\n",
            "233   64    1   0       120   246  ...      1      2.2      0   1     2\n",
            "44    39    1   2       140   321  ...      0      0.0      2   0     2\n",
            "..   ...  ...  ..       ...   ...  ...    ...      ...    ...  ..   ...\n",
            "73    51    1   0       140   261  ...      1      0.0      2   0     2\n",
            "96    62    0   0       140   394  ...      0      1.2      1   0     2\n",
            "176   60    1   0       117   230  ...      1      1.4      2   2     3\n",
            "2     41    0   1       130   204  ...      0      1.4      2   0     2\n",
            "164   38    1   2       138   175  ...      0      0.0      2   4     2\n",
            "\n",
            "[241 rows x 13 columns]\n",
            "*******************\n",
            "     age  sex  cp  trestbps  chol  ...  exang  oldpeak  slope  ca  thal\n",
            "168   63    1   0       130   254  ...      0      1.4      1   1     3\n",
            "296   63    0   0       124   197  ...      1      0.0      1   0     2\n",
            "242   64    1   0       145   212  ...      0      2.0      1   2     1\n",
            "126   47    1   0       112   204  ...      0      0.1      2   0     2\n",
            "155   58    0   0       130   197  ...      0      0.6      1   0     2\n",
            "1     37    1   2       130   250  ...      0      3.5      0   0     2\n",
            "238   77    1   0       125   304  ...      1      0.0      2   3     2\n",
            "119   46    0   0       138   243  ...      1      0.0      1   0     2\n",
            "285   46    1   0       140   311  ...      1      1.8      1   2     3\n",
            "10    54    1   0       140   239  ...      0      1.2      2   0     2\n",
            "161   55    0   1       132   342  ...      0      1.2      2   0     2\n",
            "75    55    0   1       135   250  ...      0      1.4      1   0     2\n",
            "202   58    1   0       150   270  ...      1      0.8      2   0     3\n",
            "257   50    1   0       144   200  ...      1      0.9      1   0     3\n",
            "57    45    1   0       115   260  ...      0      0.0      2   0     2\n",
            "149   42    1   2       130   180  ...      0      0.0      2   0     2\n",
            "103   42    1   2       120   240  ...      0      0.8      0   0     3\n",
            "37    54    1   2       150   232  ...      0      1.6      2   0     3\n",
            "123   54    0   2       108   267  ...      0      0.0      2   0     2\n",
            "69    62    0   0       124   209  ...      0      0.0      2   0     2\n",
            "249   69    1   2       140   254  ...      0      2.0      1   3     3\n",
            "246   56    0   0       134   409  ...      1      1.9      1   2     3\n",
            "8     52    1   2       172   199  ...      0      0.5      2   0     3\n",
            "18    43    1   0       150   247  ...      0      1.5      2   0     2\n",
            "112   64    0   2       140   313  ...      0      0.2      2   0     3\n",
            "35    46    0   2       142   177  ...      1      1.4      0   0     2\n",
            "71    51    1   2        94   227  ...      1      0.0      2   1     3\n",
            "53    44    0   2       108   141  ...      0      0.6      1   0     2\n",
            "223   56    0   0       200   288  ...      1      4.0      0   2     3\n",
            "157   35    1   1       122   192  ...      0      0.0      2   0     2\n",
            "151   71    0   0       112   149  ...      0      1.6      1   0     2\n",
            "\n",
            "[31 rows x 13 columns]\n",
            "*******************\n",
            "     age  sex  cp  trestbps  chol  ...  exang  oldpeak  slope  ca  thal\n",
            "184   50    1   0       150   243  ...      0      2.6      1   0     3\n",
            "297   59    1   0       164   176  ...      0      1.0      1   2     1\n",
            "14    58    0   3       150   283  ...      0      1.0      2   0     2\n",
            "142   42    0   2       120   209  ...      0      0.0      1   0     2\n",
            "195   59    1   0       170   326  ...      1      3.4      0   0     3\n",
            "197   67    1   0       125   254  ...      0      0.2      1   2     3\n",
            "144   76    0   2       140   197  ...      0      1.1      1   0     2\n",
            "272   67    1   0       120   237  ...      0      1.0      1   0     2\n",
            "165   67    1   0       160   286  ...      1      1.5      1   3     2\n",
            "33    54    1   2       125   273  ...      0      0.5      0   1     2\n",
            "213   61    0   0       145   307  ...      1      1.0      1   0     3\n",
            "229   64    1   2       125   309  ...      1      1.8      1   0     3\n",
            "77    59    1   1       140   221  ...      1      0.0      2   0     2\n",
            "261   52    1   0       112   230  ...      0      0.0      2   1     2\n",
            "192   54    1   0       120   188  ...      0      1.4      1   1     3\n",
            "277   57    1   1       124   261  ...      0      0.3      2   0     3\n",
            "180   55    1   0       132   353  ...      1      1.2      1   1     3\n",
            "284   61    1   0       140   207  ...      1      1.9      2   1     3\n",
            "205   52    1   0       128   255  ...      1      0.0      2   1     3\n",
            "92    52    1   2       138   223  ...      0      0.0      2   4     2\n",
            "204   62    0   0       160   164  ...      0      6.2      0   3     3\n",
            "16    58    0   2       120   340  ...      0      0.0      2   0     2\n",
            "116   41    1   2       130   214  ...      0      2.0      1   0     2\n",
            "152   64    1   3       170   227  ...      0      0.6      1   0     3\n",
            "36    54    0   2       135   304  ...      0      0.0      2   0     2\n",
            "259   38    1   3       120   231  ...      1      3.8      1   0     3\n",
            "265   66    1   0       112   212  ...      1      0.1      2   1     2\n",
            "230   47    1   2       108   243  ...      0      0.0      2   0     2\n",
            "70    54    1   2       120   258  ...      0      0.4      1   0     3\n",
            "86    68    1   2       118   277  ...      0      1.0      2   1     3\n",
            "133   41    1   1       110   235  ...      0      0.0      2   0     2\n",
            "\n",
            "[31 rows x 13 columns]\n",
            "+++++++++++++++++++++++++++++++++++++\n",
            "[1 0 0 0 1 0 0 1 1 0 1 1 1 1 0 0 0 1 0 1 1 0 1 1 0 0 0 0 1 1 0 1 0 1 0 1 0\n",
            " 1 1 1 0 0 1 1 0 1 0 0 1 0 0 0 1 1 1 0 1 0 0 1 1 1 1 1 0 0 0 0 0 1 1 1 1 0\n",
            " 1 1 1 0 1 0 0 1 0 0 1 1 1 1 0 0 0 1 0 0 1 0 1 0 0 1 1 1 0 1 1 1 0 0 0 0 1\n",
            " 0 1 1 1 1 0 1 1 1 1 1 1 1 0 1 0 0 1 1 1 0 1 0 1 1 0 0 0 1 1 1 1 1 0 0 0 0\n",
            " 1 1 1 1 1 0 1 0 0 1 0 1 0 1 0 0 1 1 0 1 0 1 1 1 0 1 0 1 1 1 0 0 0 0 0 1 1\n",
            " 1 0 0 0 1 1 0 1 1 0 1 1 0 1 1 1 1 1 0 0 0 1 1 1 0 0 1 1 1 0 0 0 1 0 0 0 0\n",
            " 1 1 1 0 1 1 0 1 0 0 1 0 0 0 1 1 0 1 1]\n",
            "*******************\n",
            "[0 0 0 1 1 1 0 1 0 1 1 1 0 0 1 1 1 1 1 1 0 0 1 1 1 1 1 1 0 1 1]\n",
            "*******************\n",
            "[0 0 1 1 0 0 1 0 0 1 0 0 1 0 0 0 0 0 0 1 0 1 1 1 1 0 0 0 1 1 1]\n"
          ]
        }
      ]
    },
    {
      "cell_type": "markdown",
      "source": [
        "KNN"
      ],
      "metadata": {
        "id": "tdEihfmKh2V9"
      }
    },
    {
      "cell_type": "code",
      "source": [
        "#Para KNN\n",
        "\n",
        "# Elegir numero de vecinos\n",
        "clf=KNeighborsClassifier(n_neighbors=10)\n",
        "\n",
        "# Ajustar clf al set de entrenamiento\n",
        "clf.fit(X_train,Y_train)\n",
        "\n",
        "#Predicciones en set de test\n",
        "predictions=clf.predict(X_test)\n",
        "\n",
        "#Sacamos los valores de la predicción y de la matriz de confusión\n",
        "accuracy_train=clf.score(X_train,Y_train)\n",
        "accuracy_test=clf.score(X_test,Y_test)\n",
        "print(\"Knn\")\n",
        "print(\"Antes de optimizar el hiperparametro\")\n",
        "print (\"Precision set entrenamiento: {:.2f}\".format(accuracy_train))\n",
        "print (\"Precision set de test: {:.2f}\".format(accuracy_test))\n",
        "print(confusion_matrix(Y_test,predictions))\n",
        "print(classification_report(Y_test,predictions))\n",
        "#Aplicar algoritmo Cross Validation\n",
        "neighbors = [] \n",
        "cv_scores = [] \n",
        "print(\"prueba kfold\")\n",
        "\n",
        "scores = cross_val_score(clf, X_train, Y_train, cv=kf, scoring=\"accuracy\")\n",
        "\n",
        "print(\"Metricas cross_validation\", scores)\n",
        "\n",
        "print(\"Media de cross_validation\", scores.mean())\n",
        "\n",
        "#Con este algoritmo sacamos el numero de vecinos optimos para nuestro problema\n",
        "from sklearn.model_selection import cross_val_score \n",
        "for k in range(1, 51, 2): #no puede ser numero par\n",
        "    neighbors.append(k) \n",
        "    knn = KNeighborsClassifier(n_neighbors = k) \n",
        "    scores = cross_val_score(knn, X_train, Y_train, cv = 10, scoring = 'accuracy') \n",
        "    cv_scores.append(scores.mean()) \n",
        "MSE = [1-x for x in cv_scores]   \n",
        "optimal_k = neighbors[MSE.index(min(MSE))] \n",
        "print('El numero optimo de vecinos es:  % d ' % optimal_k) \n",
        "\n",
        "#Rehaciendo algoritmo con valor de vecinos optimizado\n",
        "print(\"Rehacer el modelo KNN con el hiperparametro optimizado\")\n",
        "\n",
        "clf=KNeighborsClassifier(n_neighbors=optimal_k)\n",
        "clf.fit(X_train,Y_train)\n",
        "predictions=clf.predict(X_test)\n",
        "#Sacamos los valores de la predicción y de la matriz de confusión\n",
        "accuracy_train=clf.score(X_train,Y_train)\n",
        "accuracy_test=clf.score(X_test,Y_test)\n",
        "print (\"Precision set de entrenamiento: {:.2f}\".format(accuracy_train))\n",
        "print (\"Precision set de test:: {:.2f}\".format(accuracy_test))\n",
        "print (\"#####################################################\")\n",
        "print(confusion_matrix(Y_test,predictions))\n",
        "print(classification_report(Y_test,predictions))\n",
        "print(\"prueba kfold\")\n",
        "\n",
        "scores = cross_val_score(clf, X_train, Y_train, cv=kf, scoring=\"accuracy\")\n",
        "\n",
        "print(\"Metricas cross_validation\", scores)\n",
        "\n",
        "print(\"Media de cross_validation\", scores.mean())\n",
        "\n"
      ],
      "metadata": {
        "id": "V4DPyPPVh8_6",
        "colab": {
          "base_uri": "https://localhost:8080/"
        },
        "outputId": "67b0e99e-589c-4182-a360-ecdf2994c4f8"
      },
      "execution_count": null,
      "outputs": [
        {
          "output_type": "stream",
          "name": "stdout",
          "text": [
            "Knn\n",
            "Antes de optimizar el hiperparametro\n",
            "Precision set entrenamiento: 0.67\n",
            "Precision set de test: 0.74\n",
            "[[ 9  1]\n",
            " [ 7 14]]\n",
            "              precision    recall  f1-score   support\n",
            "\n",
            "           0       0.56      0.90      0.69        10\n",
            "           1       0.93      0.67      0.78        21\n",
            "\n",
            "    accuracy                           0.74        31\n",
            "   macro avg       0.75      0.78      0.74        31\n",
            "weighted avg       0.81      0.74      0.75        31\n",
            "\n",
            "prueba kfold\n",
            "Metricas cross_validation [0.63265306 0.64583333 0.5        0.64583333 0.5       ]\n",
            "Media de cross_validation 0.5848639455782314\n",
            "El numero optimo de vecinos es:   3 \n",
            "Rehacer el modelo KNN con el hiperparametro optimizado\n",
            "Precision set de entrenamiento: 0.80\n",
            "Precision set de test:: 0.74\n",
            "#####################################################\n",
            "[[ 8  2]\n",
            " [ 6 15]]\n",
            "              precision    recall  f1-score   support\n",
            "\n",
            "           0       0.57      0.80      0.67        10\n",
            "           1       0.88      0.71      0.79        21\n",
            "\n",
            "    accuracy                           0.74        31\n",
            "   macro avg       0.73      0.76      0.73        31\n",
            "weighted avg       0.78      0.74      0.75        31\n",
            "\n",
            "prueba kfold\n",
            "Metricas cross_validation [0.6122449  0.64583333 0.58333333 0.6875     0.58333333]\n",
            "Media de cross_validation 0.6224489795918368\n"
          ]
        }
      ]
    },
    {
      "cell_type": "markdown",
      "source": [
        "ARBOLES"
      ],
      "metadata": {
        "id": "SbxV9khah7V8"
      }
    },
    {
      "cell_type": "code",
      "source": [
        "model =  DecisionTreeClassifier(criterion=\"entropy\", max_depth=3)\n",
        "model.fit(X_train, Y_train)\n",
        "print(model.get_depth())\n",
        "#Sacamos los valores de la predicción y de la matriz de confusión\n",
        "Y_ab_pred_train=model.predict(X_train)\n",
        "Y_ab_pred_test=model.predict(X_test)\n",
        "print(\"Arbol de clasificacion\")\n",
        "print(\"Porcentaje de predicciones correctas (training): \",100*metrics.accuracy_score(Y_train,Y_ab_pred_train))\n",
        "print(\"Porcentaje de predicciones correctas (test): \",100*metrics.accuracy_score(Y_test,Y_ab_pred_test))\n",
        "print (\"#####################################################\")\n",
        "\n",
        "print(confusion_matrix(Y_test,Y_ab_pred_test))\n",
        "print(classification_report(Y_test,Y_ab_pred_test))\n",
        "\n",
        "#Algoritmo de validación cruzada con el que podemos ver nuestros resultados\n",
        "print(\"prueba kfold\")\n",
        "\n",
        "\n",
        "scores = cross_val_score(model, X_test, Y_test, cv=kf, scoring=\"accuracy\")\n",
        "\n",
        "print(\"Metricas cross_validation test \", scores)\n",
        "\n",
        "print(\"Media de cross_validation test \", scores.mean())"
      ],
      "metadata": {
        "id": "p4VIy3u6iE41",
        "colab": {
          "base_uri": "https://localhost:8080/"
        },
        "outputId": "80ea8787-e737-4512-e742-243bad2f4b40"
      },
      "execution_count": null,
      "outputs": [
        {
          "output_type": "stream",
          "name": "stdout",
          "text": [
            "3\n",
            "Arbol de clasificacion\n",
            "Porcentaje de predicciones correctas (training):  80.91286307053942\n",
            "Porcentaje de predicciones correctas (test):  93.54838709677419\n",
            "#####################################################\n",
            "[[ 8  2]\n",
            " [ 0 21]]\n",
            "              precision    recall  f1-score   support\n",
            "\n",
            "           0       1.00      0.80      0.89        10\n",
            "           1       0.91      1.00      0.95        21\n",
            "\n",
            "    accuracy                           0.94        31\n",
            "   macro avg       0.96      0.90      0.92        31\n",
            "weighted avg       0.94      0.94      0.93        31\n",
            "\n",
            "prueba kfold\n",
            "Metricas cross_validation test  [0.85714286 1.         1.         0.83333333 0.83333333]\n",
            "Media de cross_validation test  0.9047619047619048\n"
          ]
        }
      ]
    },
    {
      "cell_type": "markdown",
      "source": [
        "BAYES"
      ],
      "metadata": {
        "id": "BYmra2MGh7ly"
      }
    },
    {
      "cell_type": "code",
      "source": [
        "#Para Bayes\n",
        "\n",
        "#Usamos el modelo Gausiano\n",
        "model=GaussianNB(var_smoothing=1e-9)\n",
        "#Pero podriamos usar el modelo Multinomial\n",
        "#model=MultinomialNB()\n",
        "model.fit(X_train, Y_train)\n",
        "\n",
        "#Sacamos los valores de la predicción y de la matriz de confusión\n",
        "Y_pred_train=model.predict(X_train)\n",
        "Y_pred_test=model.predict(X_test)\n",
        "print(\"Bayes\")\n",
        "print(\"Porcentaje de predicciones correctas (training): \",100*metrics.accuracy_score(Y_train,Y_pred_train))\n",
        "print(\"Porcentaje de predicciones correctas (test): \",100*metrics.accuracy_score(Y_test,Y_pred_test))\n",
        "print(confusion_matrix(Y_test,Y_pred_test))\n",
        "print(classification_report(Y_test,Y_pred_test))\n",
        "\n",
        "#Algoritmo de validación cruzada con el que podemos ver nuestros resultados\n",
        "print(\"prueba kfold\")\n",
        "\n",
        "scores = cross_val_score(model, X_train, Y_train, cv=kf, scoring=\"accuracy\")\n",
        "\n",
        "print(\"Metricas cross_validation\", scores)\n",
        "\n",
        "print(\"Media de cross_validation\", scores.mean())"
      ],
      "metadata": {
        "id": "dixlKGhlh_UE",
        "colab": {
          "base_uri": "https://localhost:8080/"
        },
        "outputId": "1938b5f2-47af-4fdf-e6fc-f2f7481a85bb"
      },
      "execution_count": null,
      "outputs": [
        {
          "output_type": "stream",
          "name": "stdout",
          "text": [
            "Bayes\n",
            "Porcentaje de predicciones correctas (training):  81.74273858921161\n",
            "Porcentaje de predicciones correctas (test):  90.32258064516128\n",
            "[[ 9  1]\n",
            " [ 2 19]]\n",
            "              precision    recall  f1-score   support\n",
            "\n",
            "           0       0.82      0.90      0.86        10\n",
            "           1       0.95      0.90      0.93        21\n",
            "\n",
            "    accuracy                           0.90        31\n",
            "   macro avg       0.88      0.90      0.89        31\n",
            "weighted avg       0.91      0.90      0.90        31\n",
            "\n",
            "prueba kfold\n",
            "Metricas cross_validation [0.91836735 0.8125     0.79166667 0.70833333 0.75      ]\n",
            "Media de cross_validation 0.7961734693877551\n"
          ]
        }
      ]
    },
    {
      "cell_type": "markdown",
      "source": [
        "REDES NEURONALES"
      ],
      "metadata": {
        "id": "GKH8IoUFh7zs"
      }
    },
    {
      "cell_type": "code",
      "source": [
        "#Creamos la red neuronal \n",
        "from sklearn.neural_network import MLPClassifier\n",
        "mlp = MLPClassifier(hidden_layer_sizes=(25,25,25), max_iter=1500,solver='lbfgs',activation='relu')\n",
        "mlp.fit(X_train, Y_train)\n",
        "predictions = mlp.predict(X_test)\n",
        "print(predictions)\n",
        "#Sacamos los resultados de la predicción y de la matriz de confusión\n",
        "from sklearn.metrics import classification_report, confusion_matrix\n",
        "print(confusion_matrix(Y_test,predictions))\n",
        "print(classification_report(Y_test,predictions))\n",
        "\n",
        "#Utilizamos la validación cruzada para comprobar nuestros resultados\n",
        "print(\"prueba kfold\")\n",
        "\n",
        "scores = cross_val_score(mlp, X_train, Y_train, cv=kf, scoring=\"accuracy\")\n",
        "\n",
        "print(\"Metricas cross_validation\", scores)\n",
        "\n",
        "print(\"Media de cross_validation\", scores.mean())"
      ],
      "metadata": {
        "id": "pPk_LopzqMl8",
        "colab": {
          "base_uri": "https://localhost:8080/"
        },
        "outputId": "9dfcd537-a6fb-45da-d97f-7370626b357b"
      },
      "execution_count": null,
      "outputs": [
        {
          "output_type": "stream",
          "name": "stdout",
          "text": [
            "[0 1 0 1 1 0 0 1 0 1 1 1 0 0 1 1 1 1 1 1 0 0 0 0 1 1 1 1 0 1 1]\n",
            "[[ 9  1]\n",
            " [ 3 18]]\n",
            "              precision    recall  f1-score   support\n",
            "\n",
            "           0       0.75      0.90      0.82        10\n",
            "           1       0.95      0.86      0.90        21\n",
            "\n",
            "    accuracy                           0.87        31\n",
            "   macro avg       0.85      0.88      0.86        31\n",
            "weighted avg       0.88      0.87      0.87        31\n",
            "\n",
            "prueba kfold\n",
            "Metricas cross_validation [0.83673469 0.89583333 0.8125     0.66666667 0.72916667]\n",
            "Media de cross_validation 0.7881802721088434\n"
          ]
        }
      ]
    },
    {
      "cell_type": "markdown",
      "source": [
        "*Prueba*  con el conjunto de validacion\n"
      ],
      "metadata": {
        "id": "iGnnpDo9BirU"
      }
    },
    {
      "cell_type": "code",
      "source": [
        "#Prueba de la pregunta 6 a la red neuronal con los datos del set de validación \n",
        "from sklearn.neural_network import MLPClassifier\n",
        "mlp = MLPClassifier(hidden_layer_sizes=(25,25,25), max_iter=1500,solver='lbfgs',activation='relu')\n",
        "mlp.fit(X_train, Y_train)\n",
        "predictions = mlp.predict(X_val)\n",
        "print(predictions)\n",
        "\n",
        "from sklearn.metrics import classification_report, confusion_matrix\n",
        "print(confusion_matrix(Y_val,predictions))\n",
        "print(classification_report(Y_val,predictions))\n",
        "\n",
        "print(\"prueba kfold\")\n",
        "\n",
        "scores = cross_val_score(model, X_val, Y_val, cv=kf, scoring=\"accuracy\")\n",
        "\n",
        "print(\"Metricas cross_validation\", scores)\n",
        "\n",
        "print(\"Media de cross_validation\", scores.mean())"
      ],
      "metadata": {
        "colab": {
          "base_uri": "https://localhost:8080/"
        },
        "id": "DWlWxb7EA72B",
        "outputId": "1c14e4cd-561b-4afc-ca85-6c118a6756df"
      },
      "execution_count": null,
      "outputs": [
        {
          "output_type": "stream",
          "name": "stdout",
          "text": [
            "[0 1 1 0 0 0 1 0 1 1 0 0 1 1 1 1 0 1 0 0 1 0 0 0 0 1 0 1 0 1 0]\n",
            "[[14  3]\n",
            " [ 3 11]]\n",
            "              precision    recall  f1-score   support\n",
            "\n",
            "           0       0.82      0.82      0.82        17\n",
            "           1       0.79      0.79      0.79        14\n",
            "\n",
            "    accuracy                           0.81        31\n",
            "   macro avg       0.80      0.80      0.80        31\n",
            "weighted avg       0.81      0.81      0.81        31\n",
            "\n",
            "prueba kfold\n",
            "Metricas cross_validation [0.71428571 0.66666667 0.83333333 1.         0.66666667]\n",
            "Media de cross_validation 0.7761904761904762\n"
          ]
        }
      ]
    },
    {
      "cell_type": "markdown",
      "source": [
        "Perceptron"
      ],
      "metadata": {
        "id": "TYlnr5cNwlIz"
      }
    },
    {
      "cell_type": "code",
      "source": [
        "#Perceptrón utilizado para la pregunta 7 aplicando el modelo lineal \n",
        "from sklearn.linear_model import Perceptron\n",
        "p = Perceptron()\n",
        "p.fit(X_train, Y_train)\n",
        "\n",
        "predictions = p.predict(X_test)\n",
        "\n",
        "print(\"*********\")\n",
        "print(confusion_matrix(Y_test,predictions))\n",
        "print(classification_report(Y_test,predictions))"
      ],
      "metadata": {
        "colab": {
          "base_uri": "https://localhost:8080/"
        },
        "id": "VFYuZeIbH560",
        "outputId": "4f6383c3-a81c-47ca-98ab-c86012a8edb1"
      },
      "execution_count": null,
      "outputs": [
        {
          "output_type": "stream",
          "name": "stdout",
          "text": [
            "*********\n",
            "[[ 3 10]\n",
            " [ 0 18]]\n",
            "              precision    recall  f1-score   support\n",
            "\n",
            "           0       1.00      0.23      0.38        13\n",
            "           1       0.64      1.00      0.78        18\n",
            "\n",
            "    accuracy                           0.68        31\n",
            "   macro avg       0.82      0.62      0.58        31\n",
            "weighted avg       0.79      0.68      0.61        31\n",
            "\n"
          ]
        }
      ]
    }
  ]
}