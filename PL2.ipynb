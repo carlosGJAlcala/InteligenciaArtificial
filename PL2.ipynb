{
  "nbformat": 4,
  "nbformat_minor": 0,
  "metadata": {
    "colab": {
      "name": "PEC2-IA.ipynb",
      "provenance": [],
      "collapsed_sections": []
    },
    "kernelspec": {
      "display_name": "Python 3",
      "name": "python3"
    },
    "language_info": {
      "name": "python"
    }
  },
  "cells": [
    {
      "cell_type": "markdown",
      "metadata": {
        "id": "ipwy535Y7fCs"
      },
      "source": [
        "Óscar Fernández Sánchez\n",
        "\n",
        "\n",
        "Sergio Orejón Pérez\n",
        "\n",
        "Jordy Ivan San Martín Ponce \n",
        "\n",
        "Carlos Garrido Junco"
      ]
    },
    {
      "cell_type": "code",
      "metadata": {
        "id": "ub5wbV1aat_1"
      },
      "source": [
        "\n",
        "#Para knn\n",
        "import sklearn.datasets as datasets\n",
        "import pandas as pd\n",
        "from sklearn.model_selection import train_test_split\n",
        "from sklearn.neighbors import KNeighborsClassifier\n",
        "\n",
        "#Para bayes\n",
        "from sklearn.datasets import load_breast_cancer\n",
        "from sklearn.model_selection import train_test_split\n",
        "from sklearn import metrics\n",
        "from sklearn.naive_bayes import MultinomialNB\n",
        "#Con gauss seria: \n",
        "from sklearn.naive_bayes import GaussianNB\n",
        "\n",
        "\n",
        "#Para arboles \n",
        "import numpy as np\n",
        "import pandas as pd\n",
        "import matplotlib.pyplot as plt\n",
        "from sklearn.model_selection import train_test_split\n",
        "from sklearn import datasets\n",
        "from sklearn import metrics\n",
        "from sklearn.tree import DecisionTreeClassifier"
      ],
      "execution_count": null,
      "outputs": []
    },
    {
      "cell_type": "code",
      "metadata": {
        "colab": {
          "base_uri": "https://localhost:8080/"
        },
        "id": "J44yX5ExcdnB",
        "outputId": "8dc7cddf-ec6d-4380-fb48-afcc713c8278"
      },
      "source": [
        "#KNN\n",
        "breast_cancer=datasets.load_breast_cancer()\n",
        "X=pd.DataFrame(breast_cancer.data, columns=breast_cancer.feature_names)\n",
        "Y=breast_cancer.target\n",
        "# Separar dataset en sets de entrenamiento y test \n",
        "X_train, X_test, Y_train, Y_test = train_test_split(X, Y, random_state=0)\n",
        "\n",
        "#Elegir numero de vecinos\n",
        "clf=KNeighborsClassifier(n_neighbors=10)\n",
        "\n",
        "# Ajustar el clasificador al set de entrenamiento\n",
        "clf.fit(X_train,Y_train)\n",
        "\n",
        "#Predicciones en el modelo de test\n",
        "predictions=clf.predict(X_test)\n",
        "\n",
        "#Evaluacion\n",
        "accuracy_train=clf.score(X_train,Y_train)\n",
        "accuracy_test=clf.score(X_test,Y_test)\n",
        "print (\"Precision del set de entrenamiento: {:.2f}\".format(accuracy_train))\n",
        "print (\"Precision del set de test: {:.2f}\".format(accuracy_test))"
      ],
      "execution_count": null,
      "outputs": [
        {
          "name": "stdout",
          "output_type": "stream",
          "text": [
            "Precision del set de entrenamiento: 0.94\n",
            "Precision del set de test: 0.94\n"
          ]
        }
      ]
    },
    {
      "cell_type": "code",
      "metadata": {
        "colab": {
          "base_uri": "https://localhost:8080/"
        },
        "id": "SyHVpQLRdOuJ",
        "outputId": "3c1a1abd-d513-497d-ee2c-a51c47bd8dd9"
      },
      "source": [
        "#Arbol clasificacion\n",
        "#Cargamos los datos\n",
        "breast_cancer = datasets.load_breast_cancer()\n",
        "data = pd.DataFrame(breast_cancer.data,columns=breast_cancer.feature_names)\n",
        "data = pd.concat([data,pd.Series(breast_cancer.target,name='MEDV')],axis=1)\n",
        "data.head()\n",
        "X = data.iloc[:,:-1]\n",
        "Y = data.iloc[:,-1]\n",
        "#Separa el dataset en sets de entrenamiento y test\n",
        "X_train, X_test, Y_train, Y_test = train_test_split(X,Y,test_size=0.50,random_state=0)\n",
        "#Elegimos el modelo de arbol de clasificacion con el criterio de entropia\n",
        "model =  DecisionTreeClassifier(criterion=\"entropy\")\n",
        "model.fit(X_train, Y_train)\n",
        "#evaluacion del modelo\n",
        "Y_pred_train=model.predict(X_train)\n",
        "Y_pred_test=model.predict(X_test)\n",
        "print(\"Porcentaje de prediccion correcta (entrenamiento): \",100*metrics.accuracy_score(Y_train,Y_pred_train))\n",
        "print(\"Porcentaje de prediccion correcta (test): \",100*metrics.accuracy_score(Y_test,Y_pred_test))"
      ],
      "execution_count": null,
      "outputs": [
        {
          "name": "stdout",
          "output_type": "stream",
          "text": [
            "Porcentaje de prediccion correcta (entrenamiento):  100.0\n",
            "Porcentaje de prediccion correcta (test):  92.28070175438596\n"
          ]
        }
      ]
    },
    {
      "cell_type": "code",
      "metadata": {
        "colab": {
          "base_uri": "https://localhost:8080/"
        },
        "id": "CNjP98-idh85",
        "outputId": "be917d5a-81d6-48af-a91c-b36a836dcbe2"
      },
      "source": [
        "#Bayes\n",
        "\n",
        "#load data\n",
        "breast_cancer_data=load_breast_cancer()\n",
        "breast_cancer_data.data[0]\n",
        "breast_cancer_data.target[0]\n",
        "\n",
        "#seleccionar entrenamiento y test\n",
        "X=breast_cancer_data.data\n",
        "Y=breast_cancer_data.target\n",
        "X_train,X_test,Y_train,Y_test=train_test_split(X,Y,test_size=0.20,random_state=0)\n",
        "\n",
        "#ajustar modelo\n",
        "#Se puede usar el modelo Gausiano:\n",
        "model=GaussianNB()\n",
        "#Se puede usar el modelo Multinomial (el cual usa posteriormente Laplace):\n",
        "#model=MultinomialNB()\n",
        "\n",
        "model.fit(X_train, Y_train)\n",
        "\n",
        "#evaluacion del modelo\n",
        "Y_pred_train=model.predict(X_train)\n",
        "Y_pred_test=model.predict(X_test)\n",
        "print(\"Porcentaje de prediccion correcta (entrenamiento): \",100*metrics.accuracy_score(Y_train,Y_pred_train))\n",
        "print(\"Porcentaje de prediccion correcta (test): \",100*metrics.accuracy_score(Y_test,Y_pred_test))"
      ],
      "execution_count": null,
      "outputs": [
        {
          "name": "stdout",
          "output_type": "stream",
          "text": [
            "Porcentaje de prediccion correcta (entrenamiento):  94.72527472527472\n",
            "Porcentaje de prediccion correcta (test):  92.98245614035088\n"
          ]
        }
      ]
    },
    {
      "cell_type": "code",
      "metadata": {
        "colab": {
          "resources": {
            "http://localhost:8080/nbextensions/google.colab/files.js": {
              "data": "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",
              "ok": true,
              "headers": [
                [
                  "content-type",
                  "application/javascript"
                ]
              ],
              "status": 200,
              "status_text": ""
            }
          },
          "base_uri": "https://localhost:8080/",
          "height": 351
        },
        "id": "FGm7d6D6eA9j",
        "outputId": "f31b1e59-a27c-4c6e-9df1-fc2115132b9c"
      },
      "source": [
        "#Para otra base de datos\n",
        "from google.colab import files\n",
        "import io\n",
        "\n",
        "uploaded= files.upload()\n",
        "heart_attack = pd.read_csv(io.BytesIO(uploaded['heart_UCI.csv']))\n",
        "X = heart_attack.loc[:,heart_attack.columns != 'target']\n",
        "Y = heart_attack['target'].values \n",
        "\n",
        "#Para KNN\n",
        "# Separar dataset en sets de entrenamiento y test\n",
        "X_train, X_test, Y_train, Y_test = train_test_split(X, Y, random_state=0)\n",
        "\n",
        "# Elegir numero de vecinos\n",
        "clf=KNeighborsClassifier(n_neighbors=10)\n",
        "\n",
        "# Ajustar clf al set de entrenamiento\n",
        "clf.fit(X_train,Y_train)\n",
        "\n",
        "#Predicciones en set de test\n",
        "predictions=clf.predict(X_test)\n",
        "\n",
        "#Evaluar el modelo\n",
        "accuracy_train=clf.score(X_train,Y_train)\n",
        "accuracy_test=clf.score(X_test,Y_test)\n",
        "print(\"Knn\")\n",
        "print(\"Antes de optimizar el hiperparametro\")\n",
        "print (\"Precision set entrenamiento: {:.2f}\".format(accuracy_train))\n",
        "print (\"Precision set de test: {:.2f}\".format(accuracy_test))\n",
        "\n",
        "#Aplicar algoritmo Cross Validation\n",
        "neighbors = [] \n",
        "cv_scores = [] \n",
        "  \n",
        "from sklearn.model_selection import cross_val_score \n",
        "for k in range(1, 51, 2): #no puede ser numero par\n",
        "    neighbors.append(k) \n",
        "    knn = KNeighborsClassifier(n_neighbors = k) \n",
        "    scores = cross_val_score(knn, X_train, Y_train, cv = 10, scoring = 'accuracy') \n",
        "    cv_scores.append(scores.mean()) \n",
        "MSE = [1-x for x in cv_scores]   \n",
        "optimal_k = neighbors[MSE.index(min(MSE))] \n",
        "print('El numero optimo de vecinos es:  % d ' % optimal_k) \n",
        "\n",
        "#Rehaciendo algoritmo con valor de k optimizado\n",
        "print(\"Rehacer el modelo KNN con el hiperparametro optimizado\")\n",
        "X_train, X_test, Y_train, Y_test = train_test_split(X, Y, random_state=0)\n",
        "clf=KNeighborsClassifier(n_neighbors=optimal_k)\n",
        "clf.fit(X_train,Y_train)\n",
        "predictions=clf.predict(X_test)\n",
        "#evaluacion del modelo\n",
        "accuracy_train=clf.score(X_train,Y_train)\n",
        "accuracy_test=clf.score(X_test,Y_test)\n",
        "print (\"Precision set de entrenamiento: {:.2f}\".format(accuracy_train))\n",
        "print (\"Precision set de test:: {:.2f}\".format(accuracy_test))\n",
        "print (\"#####################################################\")\n",
        "#Arbol clasificacion\n",
        "#cargar los datos\n",
        "heart_attack = pd.read_csv('heart_UCI.csv')\n",
        "X_ab = heart_attack.loc[:,heart_attack.columns != 'target']\n",
        "Y_ab = heart_attack['target'].values\n",
        "# Separar dataset en sets de entrenamiento y test \n",
        "X_ab_train, X_ab_test, Y_ab_train, Y_ab_test = train_test_split(X_ab,Y_ab,test_size=0.50,random_state=0)\n",
        "model =  DecisionTreeClassifier(criterion=\"entropy\")\n",
        "model.fit(X_ab_train, Y_ab_train)\n",
        "#evaluacion del modelo\n",
        "Y_ab_pred_train=model.predict(X_ab_train)\n",
        "Y_ab_pred_test=model.predict(X_ab_test)\n",
        "print(\"Arbol de clasificacion\")\n",
        "print(\"Porcentaje de predicciones correctas (training): \",100*metrics.accuracy_score(Y_ab_train,Y_ab_pred_train))\n",
        "print(\"Porcentaje de predicciones correctas (test): \",100*metrics.accuracy_score(Y_ab_test,Y_ab_pred_test))\n",
        "print (\"#####################################################\")\n",
        "\n",
        "#Para Bayes\n",
        "X = pd.DataFrame(heart_attack.values, columns=heart_attack.columns)\n",
        "Y = heart_attack['target'].values \n",
        "X_train,X_test,Y_train,Y_test=train_test_split(X,Y,test_size=0.20,random_state=0)\n",
        "#Usamos el modelo Gausiano\n",
        "#model=GaussianNB()\n",
        "#Pero podriamos usar el modelo Multinomial\n",
        "model=MultinomialNB()\n",
        "model.fit(X_train, Y_train)\n",
        "\n",
        "#evaluacion del modelo\n",
        "Y_pred_train=model.predict(X_train)\n",
        "Y_pred_test=model.predict(X_test)\n",
        "print(\"Bayes\")\n",
        "print(\"Porcentaje de predicciones correctas (training): \",100*metrics.accuracy_score(Y_train,Y_pred_train))\n",
        "print(\"Porcentaje de predicciones correctas (test): \",100*metrics.accuracy_score(Y_test,Y_pred_test))"
      ],
      "execution_count": null,
      "outputs": [
        {
          "output_type": "display_data",
          "data": {
            "text/html": [
              "\n",
              "     <input type=\"file\" id=\"files-cdef80d3-a83a-4c18-99b8-6e031c573f96\" name=\"files[]\" multiple disabled\n",
              "        style=\"border:none\" />\n",
              "     <output id=\"result-cdef80d3-a83a-4c18-99b8-6e031c573f96\">\n",
              "      Upload widget is only available when the cell has been executed in the\n",
              "      current browser session. Please rerun this cell to enable.\n",
              "      </output>\n",
              "      <script src=\"/nbextensions/google.colab/files.js\"></script> "
            ],
            "text/plain": [
              "<IPython.core.display.HTML object>"
            ]
          },
          "metadata": {}
        },
        {
          "output_type": "stream",
          "name": "stdout",
          "text": [
            "Saving heart_UCI.csv to heart_UCI.csv\n",
            "Knn\n",
            "Antes de optimizar el hiperparametro\n",
            "Precision set entrenamiento: 0.74\n",
            "Precision set de test: 0.68\n",
            "El numero optimo de vecinos es:   23 \n",
            "Rehacer el modelo KNN con el hiperparametro optimizado\n",
            "Precision set de entrenamiento: 0.71\n",
            "Precision set de test:: 0.67\n",
            "#####################################################\n",
            "Arbol de clasificacion\n",
            "Porcentaje de predicciones correctas (training):  100.0\n",
            "Porcentaje de predicciones correctas (test):  72.36842105263158\n",
            "#####################################################\n",
            "Bayes\n",
            "Porcentaje de predicciones correctas (training):  87.19008264462809\n",
            "Porcentaje de predicciones correctas (test):  85.24590163934425\n"
          ]
        }
      ]
    }
  ]
}