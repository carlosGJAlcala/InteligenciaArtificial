{
  "nbformat": 4,
  "nbformat_minor": 0,
  "metadata": {
    "kernelspec": {
      "display_name": "Python 3",
      "language": "python",
      "name": "python3"
    },
    "language_info": {
      "codemirror_mode": {
        "name": "ipython",
        "version": 3
      },
      "file_extension": ".py",
      "mimetype": "text/x-python",
      "name": "python",
      "nbconvert_exporter": "python",
      "pygments_lexer": "ipython3",
      "version": "3.6.8"
    },
    "colab": {
      "name": "Naive Bayes Gaussian basic.ipynb",
      "provenance": []
    }
  },
  "cells": [
    {
      "cell_type": "code",
      "metadata": {
        "id": "I9CrUEnchkZb"
      },
      "source": [
        "#import libraries\n",
        "from sklearn.datasets import load_iris\n",
        "from sklearn.model_selection import train_test_split\n",
        "from sklearn import metrics\n",
        "from sklearn.naive_bayes import GaussianNB"
      ],
      "execution_count": null,
      "outputs": []
    },
    {
      "cell_type": "code",
      "metadata": {
        "id": "_VOmtjV-hkZg"
      },
      "source": [
        "#load data\n",
        "irisdata=load_iris()\n",
        "irisdata.data[0]\n",
        "irisdata.target[0]\n",
        "#select train and test\n",
        "X=irisdata.data\n",
        "Y=irisdata.target\n",
        "X_train,X_test,Y_train,Y_test=train_test_split(X,Y,test_size=0.20,random_state=0)"
      ],
      "execution_count": null,
      "outputs": []
    },
    {
      "cell_type": "code",
      "metadata": {
        "id": "TwjMFsNfhkZu",
        "colab": {
          "base_uri": "https://localhost:8080/"
        },
        "outputId": "3546058f-8045-4881-a679-1f658ba396fc"
      },
      "source": [
        "#fit model\n",
        "model=GaussianNB()\n",
        "model.fit(X_train, Y_train)"
      ],
      "execution_count": null,
      "outputs": [
        {
          "output_type": "execute_result",
          "data": {
            "text/plain": [
              "GaussianNB(priors=None, var_smoothing=1e-09)"
            ]
          },
          "metadata": {},
          "execution_count": 5
        }
      ]
    },
    {
      "cell_type": "code",
      "metadata": {
        "id": "VzlKamSXhkZz",
        "colab": {
          "base_uri": "https://localhost:8080/"
        },
        "outputId": "d93bbb52-8258-42d4-8c34-b66f55bdefd3"
      },
      "source": [
        "#prediction\n",
        "Y_pred_train=model.predict(X_train)\n",
        "Y_pred_test=model.predict(X_test)\n",
        "print(\"Percentage of correct predictions (training)\",100*metrics.accuracy_score(Y_train,Y_pred_train))\n",
        "print(\"Percentage of correct predictions (test)\",100*metrics.accuracy_score(Y_test,Y_pred_test))"
      ],
      "execution_count": null,
      "outputs": [
        {
          "output_type": "stream",
          "name": "stdout",
          "text": [
            "Percentage of correct predictions (training) 95.0\n",
            "Percentage of correct predictions (test) 96.66666666666667\n"
          ]
        }
      ]
    },
    {
      "cell_type": "code",
      "metadata": {
        "id": "iG0HNpvlhkZ3"
      },
      "source": [
        ""
      ],
      "execution_count": null,
      "outputs": []
    },
    {
      "cell_type": "code",
      "metadata": {
        "id": "3uY30VBfhkZ9"
      },
      "source": [
        ""
      ],
      "execution_count": null,
      "outputs": []
    },
    {
      "cell_type": "code",
      "metadata": {
        "id": "hpKwfk9VhkaD"
      },
      "source": [
        ""
      ],
      "execution_count": null,
      "outputs": []
    }
  ]
}