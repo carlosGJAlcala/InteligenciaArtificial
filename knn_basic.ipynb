{
  "nbformat": 4,
  "nbformat_minor": 0,
  "metadata": {
    "kernelspec": {
      "display_name": "Python 3",
      "language": "python",
      "name": "python3"
    },
    "language_info": {
      "codemirror_mode": {
        "name": "ipython",
        "version": 3
      },
      "file_extension": ".py",
      "mimetype": "text/x-python",
      "name": "python",
      "nbconvert_exporter": "python",
      "pygments_lexer": "ipython3",
      "version": "3.6.8"
    },
    "colab": {
      "name": "knn_basic.ipynb",
      "provenance": []
    }
  },
  "cells": [
    {
      "cell_type": "code",
      "metadata": {
        "id": "nKMZme3rY8C1"
      },
      "source": [
        "#import modules and data\n",
        "import sklearn.datasets as datasets\n",
        "import pandas as pd\n",
        "from sklearn.model_selection import train_test_split\n",
        "from sklearn.neighbors import KNeighborsClassifier\n",
        "iris=datasets.load_iris()\n",
        "X=pd.DataFrame(iris.data, columns=iris.feature_names)\n",
        "Y=iris.target\n"
      ],
      "execution_count": null,
      "outputs": []
    },
    {
      "cell_type": "code",
      "metadata": {
        "id": "3hLe6_9AY8C-"
      },
      "source": [
        "# Split dataset into training and test sets\n",
        "X_train, X_test, Y_train, Y_test = train_test_split(X, Y, random_state=0)\n",
        "#chose the number of neighbors\n",
        "clf=KNeighborsClassifier(n_neighbors=10)"
      ],
      "execution_count": null,
      "outputs": []
    },
    {
      "cell_type": "code",
      "metadata": {
        "id": "nSfkt1MlY8DF",
        "colab": {
          "base_uri": "https://localhost:8080/"
        },
        "outputId": "bd2dc9d3-1420-4f0d-98f0-2e74b164c7e9"
      },
      "source": [
        "#Fit the classifier on the Training Set\n",
        "clf.fit(X_train,Y_train)\n",
        "\n",
        "#Make the predictions on the Test set\n",
        "predictions=clf.predict(X_test)\n",
        "\n",
        "#Evaluate the Model\n",
        "\n",
        "accuracy_train=clf.score(X_train,Y_train)\n",
        "accuracy_test=clf.score(X_test,Y_test)\n",
        "print (\"Train set accuracy: {:.2f}\".format(accuracy_train))\n",
        "print (\"Test set accuracy: {:.2f}\".format(accuracy_test))\n"
      ],
      "execution_count": null,
      "outputs": [
        {
          "output_type": "stream",
          "name": "stdout",
          "text": [
            "Train set accuracy: 0.97\n",
            "Test set accuracy: 0.97\n"
          ]
        }
      ]
    },
    {
      "cell_type": "code",
      "metadata": {
        "id": "dgerBbSWY8DL"
      },
      "source": [
        ""
      ],
      "execution_count": null,
      "outputs": []
    }
  ]
}